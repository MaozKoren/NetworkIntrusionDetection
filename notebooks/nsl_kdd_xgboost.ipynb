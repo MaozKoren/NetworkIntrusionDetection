{
 "cells": [
  {
   "cell_type": "code",
   "execution_count": null,
   "id": "cc9a6d61",
   "metadata": {},
   "outputs": [],
   "source": [
    "import os\n",
    "import warnings\n",
    "\n",
    "from pathlib import Path\n",
    "\n",
    "import numpy as np\n",
    "import optuna\n",
    "import pandas as pd\n",
    "import psutil\n",
    "import xgboost as xgb\n",
    "import matplotlib.pyplot as plt\n",
    "import seaborn as sns\n",
    "\n",
    "from sklearn import model_selection\n",
    "from sklearn.metrics import accuracy_score\n",
    "from sklearn.metrics import classification_report\n",
    "from sklearn.model_selection import cross_validate\n",
    "from sklearn.preprocessing import LabelEncoder\n",
    "\n",
    "from xgboost import XGBClassifier\n",
    "\n",
    "\n",
    "\n",
    "\n",
    "warnings.filterwarnings(\"ignore\", category=DeprecationWarning)\n",
    "optuna.logging.set_verbosity(optuna.logging.CRITICAL)"
   ]
  },
  {
   "cell_type": "code",
   "execution_count": null,
   "id": "e07566e3",
   "metadata": {},
   "outputs": [],
   "source": [
    "DATA_PATH = Path('..') / 'data'\n",
    "RAW_DATA_PATH = DATA_PATH / 'raw'\n",
    "MODELS_PATH = Path('..') / 'models'\n"
   ]
  },
  {
   "cell_type": "code",
   "execution_count": null,
   "id": "e99754db",
   "metadata": {},
   "outputs": [],
   "source": [
    "columns = (\n",
    "['duration', 'protocol_type', 'service', 'flag', 'src_bytes', 'dst_bytes', 'land', 'wrong_fragment', 'urgent', 'hot',\n",
    " 'num_failed_logins', 'logged_in', 'num_compromised', 'root_shell', 'su_attempted', 'num_root', 'num_file_creations',\n",
    " 'num_shells', 'num_access_files', 'num_outbound_cmds', 'is_host_login', 'is_guest_login', 'count', 'srv_count',\n",
    " 'serror_rate', 'srv_serror_rate', 'rerror_rate', 'srv_rerror_rate', 'same_srv_rate', 'diff_srv_rate',\n",
    " 'srv_diff_host_rate', 'dst_host_count', 'dst_host_srv_count', 'dst_host_same_srv_rate', 'dst_host_diff_srv_rate',\n",
    " 'dst_host_same_src_port_rate', 'dst_host_srv_diff_host_rate', 'dst_host_serror_rate', 'dst_host_srv_serror_rate',\n",
    " 'dst_host_rerror_rate', 'dst_host_srv_rerror_rate', 'attack', 'level'])"
   ]
  },
  {
   "cell_type": "code",
   "execution_count": null,
   "id": "0f5e20b5",
   "metadata": {},
   "outputs": [],
   "source": [
    "df_train = pd.read_csv(RAW_DATA_PATH / 'KDDTrain+.txt')\n",
    "df_test = pd.read_csv(RAW_DATA_PATH / 'KDDTest+.txt')\n",
    "\n",
    "df_train.columns = columns\n",
    "df_test.columns = columns\n",
    "\n",
    "df_train.drop('level', axis=1, inplace=True)\n",
    "df_test.drop('level', axis=1, inplace=True)"
   ]
  },
  {
   "cell_type": "markdown",
   "id": "619e26c5",
   "metadata": {},
   "source": [
    "# Optimization for Big data\n",
    "\n",
    "based on:  https://www.kaggle.com/bextuychiev/how-to-work-w-million-row-datasets-like-a-pro"
   ]
  },
  {
   "cell_type": "code",
   "execution_count": null,
   "id": "39d9eee9",
   "metadata": {},
   "outputs": [],
   "source": [
    "def cpu_stats():\n",
    "    pid = os.getpid()\n",
    "    py = psutil.Process(pid)\n",
    "    memory_use = py.memory_info()[0] / 2. ** 30\n",
    "    return 'memory GB:' + str(np.round(memory_use, 2))\n",
    "\n",
    "def reduce_memory_usage(df, verbose=True):\n",
    "    numerics = [\"int8\", \"int16\", \"int32\", \"int64\", \"float16\", \"float32\", \"float64\"]\n",
    "    start_mem = df.memory_usage().sum() / 1024 ** 2\n",
    "    for col in df.columns:\n",
    "        col_type = df[col].dtypes\n",
    "        if col_type in numerics:\n",
    "            c_min = df[col].min()\n",
    "            c_max = df[col].max()\n",
    "            if str(col_type)[:3] == \"int\":\n",
    "                if c_min > np.iinfo(np.int8).min and c_max < np.iinfo(np.int8).max:\n",
    "                    df[col] = df[col].astype(np.int8)\n",
    "                elif c_min > np.iinfo(np.int16).min and c_max < np.iinfo(np.int16).max:\n",
    "                    df[col] = df[col].astype(np.int16)\n",
    "                elif c_min > np.iinfo(np.int32).min and c_max < np.iinfo(np.int32).max:\n",
    "                    df[col] = df[col].astype(np.int32)\n",
    "                elif c_min > np.iinfo(np.int64).min and c_max < np.iinfo(np.int64).max:\n",
    "                    df[col] = df[col].astype(np.int64)\n",
    "            else:\n",
    "                if (\n",
    "                        c_min > np.finfo(np.float16).min\n",
    "                        and c_max < np.finfo(np.float16).max\n",
    "                ):\n",
    "                    df[col] = df[col].astype(np.float16)\n",
    "                elif (\n",
    "                        c_min > np.finfo(np.float32).min\n",
    "                        and c_max < np.finfo(np.float32).max\n",
    "                ):\n",
    "                    df[col] = df[col].astype(np.float32)\n",
    "                else:\n",
    "                    df[col] = df[col].astype(np.float64)\n",
    "    end_mem = df.memory_usage().sum() / 1024 ** 2\n",
    "    if verbose:\n",
    "        print(\n",
    "            \"Mem. usage decreased to {:.2f} Mb ({:.1f}% reduction)\".format(\n",
    "                end_mem, 100 * (start_mem - end_mem) / start_mem\n",
    "            )\n",
    "        )\n",
    "    return df"
   ]
  },
  {
   "cell_type": "markdown",
   "id": "b4e36e45",
   "metadata": {},
   "source": [
    "# ML Helpers"
   ]
  },
  {
   "cell_type": "code",
   "execution_count": null,
   "id": "f50a870d",
   "metadata": {},
   "outputs": [],
   "source": [
    "def score(X, y, model, cv):\n",
    "    scoring = [\"roc_auc\"]\n",
    "    scores = cross_validate(\n",
    "        model, X, y, scoring=scoring, cv=cv, return_train_score=True\n",
    "    )\n",
    "    scores = pd.DataFrame(scores).T\n",
    "    return scores.assign(\n",
    "        mean=lambda x: x.mean(axis=1),\n",
    "        std=lambda x: x.std(axis=1),\n",
    "    )"
   ]
  },
  {
   "cell_type": "code",
   "execution_count": null,
   "id": "4fea6071",
   "metadata": {},
   "outputs": [],
   "source": [
    "df_train = reduce_memory_usage(df_train, verbose=True)\n",
    "df_test = reduce_memory_usage(df_test, verbose=True)\n",
    "\n",
    "print(cpu_stats())\n",
    "print('Memory reduced')"
   ]
  },
  {
   "cell_type": "markdown",
   "id": "b8c285b5",
   "metadata": {},
   "source": []
  },
  {
   "cell_type": "code",
   "execution_count": null,
   "id": "da18660d",
   "metadata": {},
   "outputs": [],
   "source": [
    "# plt.figure(figsize=(20, 20))\n",
    "# sns.countplot(df_train['attack'])\n",
    "# plt.xticks(rotation=45)\n",
    "# plt.show()"
   ]
  },
  {
   "cell_type": "markdown",
   "id": "a4aff769",
   "metadata": {},
   "source": [
    "# Data Preprocessing"
   ]
  },
  {
   "cell_type": "code",
   "execution_count": null,
   "id": "091d7312",
   "metadata": {},
   "outputs": [],
   "source": [
    "le = LabelEncoder()\n",
    "df_train['protocol_type'] = le.fit_transform(df_train['protocol_type'])\n",
    "df_test['protocol_type'] = le.transform(df_test['protocol_type'])\n",
    "df_train['service'] = le.fit_transform(df_train['service'])\n",
    "df_test['service'] = le.transform(df_test['service'])\n",
    "df_train['flag'] = le.fit_transform(df_train['flag'])\n",
    "df_test['flag'] = le.transform(df_test['flag'])"
   ]
  },
  {
   "cell_type": "code",
   "execution_count": null,
   "id": "1d8c0ebe",
   "metadata": {},
   "outputs": [],
   "source": [
    "label = []\n",
    "for i in df_train.attack:\n",
    "    if i == 'normal':\n",
    "        label.append(0)\n",
    "    else:\n",
    "        label.append(1)\n",
    "df_train['label'] = label\n",
    "\n",
    "label_test = []\n",
    "for i in df_test.attack:\n",
    "    if i == 'normal':\n",
    "        label_test.append(0)\n",
    "    else:\n",
    "        label_test.append(1)\n",
    "df_test['label'] = label_test"
   ]
  },
  {
   "cell_type": "code",
   "execution_count": null,
   "id": "154cea74",
   "metadata": {},
   "outputs": [],
   "source": [
    "df_train.drop('attack', axis=1, inplace=True, errors='ignore')\n",
    "df_test.drop('attack', axis=1, inplace=True, errors='ignore')\n"
   ]
  },
  {
   "cell_type": "code",
   "execution_count": null,
   "id": "2df5f0b8",
   "metadata": {},
   "outputs": [],
   "source": [
    "df_test[\"kfold\"] = -1\n",
    "kf = model_selection.KFold(n_splits=5, shuffle=True, random_state=666)\n",
    "for fold, (train_indicies, valid_indicies) in enumerate(kf.split(X=df_test)):\n",
    "    df_test.loc[valid_indicies, \"kfold\"] = fold\n",
    "features = [x for x in df_test.columns.values if x[0] == \"f\"]\n",
    "\n",
    "useful_features = [c for c in df_test.columns if c not in (\"label\", \"kfold\")]"
   ]
  },
  {
   "cell_type": "markdown",
   "id": "8feef9fc",
   "metadata": {},
   "source": [
    "# Run XGBoost Classifier"
   ]
  },
  {
   "cell_type": "code",
   "execution_count": null,
   "id": "a1909622",
   "metadata": {},
   "outputs": [],
   "source": [
    "n_estimators = 100 #7000\n",
    "early_stopping_rounds = 3 #300\n",
    "\n",
    "n_trials = 5\n",
    "\n",
    "xgboost_model = None"
   ]
  },
  {
   "cell_type": "code",
   "execution_count": null,
   "id": "5a76bbdb",
   "metadata": {},
   "outputs": [],
   "source": [
    "def run(trial):\n",
    "    print('running trail')\n",
    "    fold = 0\n",
    "    learning_rate = trial.suggest_float(\"learning_rate\", 1e-2, 0.25, log=True)\n",
    "    reg_lambda = trial.suggest_loguniform(\"reg_lambda\", 1e-8, 100.0)\n",
    "    reg_alpha = trial.suggest_loguniform(\"reg_alpha\", 1e-8, 100.0)\n",
    "    subsample = trial.suggest_float(\"subsample\", 0.1, 1.0)\n",
    "    colsample_bytree = trial.suggest_float(\"colsample_bytree\", 0.1, 1.0)\n",
    "    max_depth = trial.suggest_int(\"max_depth\", 1, 7)\n",
    "\n",
    "    xtrain = df_test[df_test.kfold != fold].reset_index(drop=True)\n",
    "    xvalid = df_test[df_test.kfold == fold].reset_index(drop=True)\n",
    "\n",
    "    ytrain = xtrain.label\n",
    "    yvalid = xvalid.label\n",
    "\n",
    "    xtrain = xtrain[useful_features]\n",
    "    xvalid = xvalid[useful_features]\n",
    "\n",
    "    xgboost_model = XGBClassifier(\n",
    "        random_state=42,\n",
    "        tree_method=\"auto\",\n",
    "        gpu_id=1,\n",
    "        predictor=\"cpu_predictor\",\n",
    "        n_estimators=n_estimators,\n",
    "        learning_rate=learning_rate,\n",
    "        reg_lambda=reg_lambda,\n",
    "        reg_alpha=reg_alpha,\n",
    "        subsample=subsample,\n",
    "        colsample_bytree=colsample_bytree,\n",
    "        max_depth=max_depth,\n",
    "    )\n",
    "    xgboost_model.fit(xtrain, ytrain, early_stopping_rounds=early_stopping_rounds, eval_metric=\"aucpr\", eval_set=[(xvalid, yvalid)], verbose=1000)\n",
    "    preds_valid = xgboost_model.predict(xvalid)\n",
    "    acc = accuracy_score(yvalid, preds_valid)\n",
    "    \n",
    "    if trial.number == (n_trials - 1):\n",
    "        print(f'saving model after trail: {trial.number}')\n",
    "        xgboost_model.save_model(MODELS_PATH / f'xgboost_model_{trial.number}.json')\n",
    "    print('finished running trail')\n",
    "    return acc"
   ]
  },
  {
   "cell_type": "code",
   "execution_count": 74,
   "id": "692b912b",
   "metadata": {},
   "outputs": [
    {
     "name": "stdout",
     "output_type": "stream",
     "text": [
      "running trail\n",
      "[10:39:02] WARNING: ../src/learner.cc:339: No visible GPU is found, setting `gpu_id` to -1\n",
      "[0]\tvalidation_0-aucpr:0.98620\n"
     ]
    },
    {
     "name": "stderr",
     "output_type": "stream",
     "text": [
      "/tmp/ipykernel_26713/2044100725.py:5: FutureWarning: suggest_loguniform has been deprecated in v3.0.0. This feature will be removed in v6.0.0. See https://github.com/optuna/optuna/releases/tag/v3.0.0. Use :func:`~optuna.trial.Trial.suggest_float` instead.\n",
      "  reg_lambda = trial.suggest_loguniform(\"reg_lambda\", 1e-8, 100.0)\n",
      "/tmp/ipykernel_26713/2044100725.py:6: FutureWarning: suggest_loguniform has been deprecated in v3.0.0. This feature will be removed in v6.0.0. See https://github.com/optuna/optuna/releases/tag/v3.0.0. Use :func:`~optuna.trial.Trial.suggest_float` instead.\n",
      "  reg_alpha = trial.suggest_loguniform(\"reg_alpha\", 1e-8, 100.0)\n",
      "/home/liran-shani/.virtualenvs/dbn_nslkdd/lib/python3.9/site-packages/xgboost/sklearn.py:835: UserWarning: `eval_metric` in `fit` method is deprecated for better compatibility with scikit-learn, use `eval_metric` in constructor or`set_params` instead.\n",
      "  warnings.warn(\n",
      "/home/liran-shani/.virtualenvs/dbn_nslkdd/lib/python3.9/site-packages/xgboost/sklearn.py:835: UserWarning: `early_stopping_rounds` in `fit` method is deprecated for better compatibility with scikit-learn, use `early_stopping_rounds` in constructor or`set_params` instead.\n",
      "  warnings.warn(\n"
     ]
    },
    {
     "name": "stdout",
     "output_type": "stream",
     "text": [
      "[64]\tvalidation_0-aucpr:0.99931\n",
      "finished running trail\n",
      "running trail\n",
      "[10:39:03] WARNING: ../src/learner.cc:339: No visible GPU is found, setting `gpu_id` to -1\n",
      "[0]\tvalidation_0-aucpr:0.98551\n"
     ]
    },
    {
     "name": "stderr",
     "output_type": "stream",
     "text": [
      "/tmp/ipykernel_26713/2044100725.py:5: FutureWarning: suggest_loguniform has been deprecated in v3.0.0. This feature will be removed in v6.0.0. See https://github.com/optuna/optuna/releases/tag/v3.0.0. Use :func:`~optuna.trial.Trial.suggest_float` instead.\n",
      "  reg_lambda = trial.suggest_loguniform(\"reg_lambda\", 1e-8, 100.0)\n",
      "/tmp/ipykernel_26713/2044100725.py:6: FutureWarning: suggest_loguniform has been deprecated in v3.0.0. This feature will be removed in v6.0.0. See https://github.com/optuna/optuna/releases/tag/v3.0.0. Use :func:`~optuna.trial.Trial.suggest_float` instead.\n",
      "  reg_alpha = trial.suggest_loguniform(\"reg_alpha\", 1e-8, 100.0)\n",
      "/home/liran-shani/.virtualenvs/dbn_nslkdd/lib/python3.9/site-packages/xgboost/sklearn.py:835: UserWarning: `eval_metric` in `fit` method is deprecated for better compatibility with scikit-learn, use `eval_metric` in constructor or`set_params` instead.\n",
      "  warnings.warn(\n",
      "/home/liran-shani/.virtualenvs/dbn_nslkdd/lib/python3.9/site-packages/xgboost/sklearn.py:835: UserWarning: `early_stopping_rounds` in `fit` method is deprecated for better compatibility with scikit-learn, use `early_stopping_rounds` in constructor or`set_params` instead.\n",
      "  warnings.warn(\n"
     ]
    },
    {
     "name": "stdout",
     "output_type": "stream",
     "text": [
      "[5]\tvalidation_0-aucpr:0.99151\n",
      "finished running trail\n",
      "running trail\n",
      "[10:39:03] WARNING: ../src/learner.cc:339: No visible GPU is found, setting `gpu_id` to -1\n",
      "[0]\tvalidation_0-aucpr:0.95243\n",
      "[15]\tvalidation_0-aucpr:0.98342\n",
      "finished running trail\n",
      "running trail\n",
      "[10:39:03] WARNING: ../src/learner.cc:339: No visible GPU is found, setting `gpu_id` to -1\n"
     ]
    },
    {
     "name": "stderr",
     "output_type": "stream",
     "text": [
      "/tmp/ipykernel_26713/2044100725.py:5: FutureWarning: suggest_loguniform has been deprecated in v3.0.0. This feature will be removed in v6.0.0. See https://github.com/optuna/optuna/releases/tag/v3.0.0. Use :func:`~optuna.trial.Trial.suggest_float` instead.\n",
      "  reg_lambda = trial.suggest_loguniform(\"reg_lambda\", 1e-8, 100.0)\n",
      "/tmp/ipykernel_26713/2044100725.py:6: FutureWarning: suggest_loguniform has been deprecated in v3.0.0. This feature will be removed in v6.0.0. See https://github.com/optuna/optuna/releases/tag/v3.0.0. Use :func:`~optuna.trial.Trial.suggest_float` instead.\n",
      "  reg_alpha = trial.suggest_loguniform(\"reg_alpha\", 1e-8, 100.0)\n",
      "/home/liran-shani/.virtualenvs/dbn_nslkdd/lib/python3.9/site-packages/xgboost/sklearn.py:835: UserWarning: `eval_metric` in `fit` method is deprecated for better compatibility with scikit-learn, use `eval_metric` in constructor or`set_params` instead.\n",
      "  warnings.warn(\n",
      "/home/liran-shani/.virtualenvs/dbn_nslkdd/lib/python3.9/site-packages/xgboost/sklearn.py:835: UserWarning: `early_stopping_rounds` in `fit` method is deprecated for better compatibility with scikit-learn, use `early_stopping_rounds` in constructor or`set_params` instead.\n",
      "  warnings.warn(\n",
      "/tmp/ipykernel_26713/2044100725.py:5: FutureWarning: suggest_loguniform has been deprecated in v3.0.0. This feature will be removed in v6.0.0. See https://github.com/optuna/optuna/releases/tag/v3.0.0. Use :func:`~optuna.trial.Trial.suggest_float` instead.\n",
      "  reg_lambda = trial.suggest_loguniform(\"reg_lambda\", 1e-8, 100.0)\n",
      "/tmp/ipykernel_26713/2044100725.py:6: FutureWarning: suggest_loguniform has been deprecated in v3.0.0. This feature will be removed in v6.0.0. See https://github.com/optuna/optuna/releases/tag/v3.0.0. Use :func:`~optuna.trial.Trial.suggest_float` instead.\n",
      "  reg_alpha = trial.suggest_loguniform(\"reg_alpha\", 1e-8, 100.0)\n",
      "/home/liran-shani/.virtualenvs/dbn_nslkdd/lib/python3.9/site-packages/xgboost/sklearn.py:835: UserWarning: `eval_metric` in `fit` method is deprecated for better compatibility with scikit-learn, use `eval_metric` in constructor or`set_params` instead.\n",
      "  warnings.warn(\n",
      "/home/liran-shani/.virtualenvs/dbn_nslkdd/lib/python3.9/site-packages/xgboost/sklearn.py:835: UserWarning: `early_stopping_rounds` in `fit` method is deprecated for better compatibility with scikit-learn, use `early_stopping_rounds` in constructor or`set_params` instead.\n",
      "  warnings.warn(\n"
     ]
    },
    {
     "name": "stdout",
     "output_type": "stream",
     "text": [
      "[0]\tvalidation_0-aucpr:0.95293\n",
      "[57]\tvalidation_0-aucpr:0.99809\n",
      "finished running trail\n",
      "running trail\n",
      "[10:39:04] WARNING: ../src/learner.cc:339: No visible GPU is found, setting `gpu_id` to -1\n",
      "[0]\tvalidation_0-aucpr:0.99113\n"
     ]
    },
    {
     "name": "stderr",
     "output_type": "stream",
     "text": [
      "/tmp/ipykernel_26713/2044100725.py:5: FutureWarning: suggest_loguniform has been deprecated in v3.0.0. This feature will be removed in v6.0.0. See https://github.com/optuna/optuna/releases/tag/v3.0.0. Use :func:`~optuna.trial.Trial.suggest_float` instead.\n",
      "  reg_lambda = trial.suggest_loguniform(\"reg_lambda\", 1e-8, 100.0)\n",
      "/tmp/ipykernel_26713/2044100725.py:6: FutureWarning: suggest_loguniform has been deprecated in v3.0.0. This feature will be removed in v6.0.0. See https://github.com/optuna/optuna/releases/tag/v3.0.0. Use :func:`~optuna.trial.Trial.suggest_float` instead.\n",
      "  reg_alpha = trial.suggest_loguniform(\"reg_alpha\", 1e-8, 100.0)\n",
      "/home/liran-shani/.virtualenvs/dbn_nslkdd/lib/python3.9/site-packages/xgboost/sklearn.py:835: UserWarning: `eval_metric` in `fit` method is deprecated for better compatibility with scikit-learn, use `eval_metric` in constructor or`set_params` instead.\n",
      "  warnings.warn(\n",
      "/home/liran-shani/.virtualenvs/dbn_nslkdd/lib/python3.9/site-packages/xgboost/sklearn.py:835: UserWarning: `early_stopping_rounds` in `fit` method is deprecated for better compatibility with scikit-learn, use `early_stopping_rounds` in constructor or`set_params` instead.\n",
      "  warnings.warn(\n"
     ]
    },
    {
     "name": "stdout",
     "output_type": "stream",
     "text": [
      "[45]\tvalidation_0-aucpr:0.99941\n",
      "saving model after trail: 4\n",
      "finished running trail\n",
      "saved model !\n"
     ]
    }
   ],
   "source": [
    "study = optuna.create_study(direction=\"minimize\")\n",
    "study.optimize(run, n_trials=n_trials)\n",
    "\n",
    "print('saved model !')"
   ]
  },
  {
   "cell_type": "code",
   "execution_count": 76,
   "id": "d6f07bb0",
   "metadata": {},
   "outputs": [
    {
     "name": "stdout",
     "output_type": "stream",
     "text": [
      "41\n"
     ]
    }
   ],
   "source": [
    "study.best_params\n",
    "print(len(useful_features))\n"
   ]
  }
 ],
 "metadata": {
  "kernelspec": {
   "display_name": "Python 3 (ipykernel)",
   "language": "python",
   "name": "python3"
  },
  "language_info": {
   "codemirror_mode": {
    "name": "ipython",
    "version": 3
   },
   "file_extension": ".py",
   "mimetype": "text/x-python",
   "name": "python",
   "nbconvert_exporter": "python",
   "pygments_lexer": "ipython3",
   "version": "3.9.14"
  }
 },
 "nbformat": 4,
 "nbformat_minor": 5
}
