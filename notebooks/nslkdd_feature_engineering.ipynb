{
 "cells": [
  {
   "cell_type": "code",
   "execution_count": 59,
   "id": "598db651",
   "metadata": {},
   "outputs": [
    {
     "name": "stdout",
     "output_type": "stream",
     "text": [
      "absl-py==1.3.0\n",
      "anyio==3.6.2\n",
      "argon2-cffi==21.3.0\n",
      "argon2-cffi-bindings==21.2.0\n",
      "arrow==1.2.3\n",
      "asttokens==2.2.1\n",
      "astunparse==1.6.3\n",
      "attrs==22.1.0\n",
      "backcall==0.2.0\n",
      "beautifulsoup4==4.11.1\n",
      "bleach==5.0.1\n",
      "cachetools==5.2.0\n",
      "certifi==2022.12.7\n",
      "cffi==1.15.1\n",
      "charset-normalizer==2.1.1\n",
      "comm==0.1.2\n",
      "debugpy==1.6.4\n",
      "decorator==5.1.1\n",
      "defusedxml==0.7.1\n",
      "entrypoints==0.4\n",
      "executing==1.2.0\n",
      "fastjsonschema==2.16.2\n",
      "flatbuffers==22.12.6\n",
      "fqdn==1.5.1\n",
      "gast==0.4.0\n",
      "google-auth==2.15.0\n",
      "google-auth-oauthlib==0.4.6\n",
      "google-pasta==0.2.0\n",
      "grpcio==1.51.1\n",
      "h5py==3.7.0\n",
      "idna==3.4\n",
      "importlib-metadata==5.2.0\n",
      "ipykernel==6.19.4\n",
      "ipython==8.7.0\n",
      "ipython-genutils==0.2.0\n",
      "ipywidgets==8.0.3\n",
      "isoduration==20.11.0\n",
      "jedi==0.18.2\n",
      "Jinja2==3.1.2\n",
      "joblib==1.2.0\n",
      "jsonpointer==2.3\n",
      "jsonschema==4.17.3\n",
      "jupyter==1.0.0\n",
      "jupyter-console==6.4.4\n",
      "jupyter-events==0.5.0\n",
      "jupyter_client==7.4.8\n",
      "jupyter_core==5.1.0\n",
      "jupyter_server==2.0.2\n",
      "jupyter_server_terminals==0.4.3\n",
      "jupyterlab-pygments==0.2.2\n",
      "jupyterlab-widgets==3.0.4\n",
      "keras==2.11.0\n",
      "libclang==14.0.6\n",
      "Markdown==3.4.1\n",
      "MarkupSafe==2.1.1\n",
      "matplotlib-inline==0.1.6\n",
      "mistune==2.0.4\n",
      "nbclassic==0.4.8\n",
      "nbclient==0.7.2\n",
      "nbconvert==7.2.7\n",
      "nbformat==5.7.1\n",
      "nest-asyncio==1.5.6\n",
      "notebook==6.5.2\n",
      "notebook_shim==0.2.2\n",
      "numpy==1.24.0\n",
      "oauthlib==3.2.2\n",
      "opt-einsum==3.3.0\n",
      "packaging==22.0\n",
      "pandas==1.5.2\n",
      "pandocfilters==1.5.0\n",
      "parso==0.8.3\n",
      "pexpect==4.8.0\n",
      "pickleshare==0.7.5\n",
      "platformdirs==2.6.0\n",
      "prometheus-client==0.15.0\n",
      "prompt-toolkit==3.0.36\n",
      "protobuf==3.19.6\n",
      "psutil==5.9.4\n",
      "ptyprocess==0.7.0\n",
      "pure-eval==0.2.2\n",
      "pyasn1==0.4.8\n",
      "pyasn1-modules==0.2.8\n",
      "pycparser==2.21\n",
      "Pygments==2.13.0\n",
      "pyrsistent==0.19.2\n",
      "pyspark==2.3.1\n",
      "python-dateutil==2.8.2\n",
      "python-json-logger==2.0.4\n",
      "pytz==2022.7\n",
      "PyYAML==6.0\n",
      "pyzmq==24.0.1\n",
      "qtconsole==5.4.0\n",
      "QtPy==2.3.0\n",
      "requests==2.28.1\n",
      "requests-oauthlib==1.3.1\n",
      "rfc3339-validator==0.1.4\n",
      "rfc3986-validator==0.1.1\n",
      "rsa==4.9\n",
      "scikit-learn==1.2.0\n",
      "scipy==1.9.3\n",
      "Send2Trash==1.8.0\n",
      "six==1.16.0\n",
      "sklearn==0.0.post1\n",
      "sniffio==1.3.0\n",
      "soupsieve==2.3.2.post1\n",
      "stack-data==0.6.2\n",
      "tensorboard==2.11.0\n",
      "tensorboard-data-server==0.6.1\n",
      "tensorboard-plugin-wit==1.8.1\n",
      "tensorflow==2.11.0\n",
      "tensorflow-estimator==2.11.0\n",
      "tensorflow-io-gcs-filesystem==0.29.0\n",
      "termcolor==2.1.1\n",
      "terminado==0.17.1\n",
      "threadpoolctl==3.1.0\n",
      "tinycss2==1.2.1\n",
      "tornado==6.2\n",
      "traitlets==5.8.0\n",
      "typing_extensions==4.4.0\n",
      "uri-template==1.2.0\n",
      "urllib3==1.26.13\n",
      "wcwidth==0.2.5\n",
      "webcolors==1.12\n",
      "webencodings==0.5.1\n",
      "websocket-client==1.4.2\n",
      "Werkzeug==2.2.2\n",
      "widgetsnbextension==4.0.4\n",
      "wrapt==1.14.1\n",
      "zipp==3.11.0\n",
      "Note: you may need to restart the kernel to use updated packages.\n"
     ]
    }
   ],
   "source": [
    "pip freeze"
   ]
  },
  {
   "cell_type": "code",
   "execution_count": 25,
   "id": "d3aed24d",
   "metadata": {},
   "outputs": [],
   "source": [
    "import os\n",
    "\n",
    "import pandas as pd\n",
    "from sklearn.model_selection import train_test_split\n",
    "from sklearn import preprocessing"
   ]
  },
  {
   "cell_type": "code",
   "execution_count": 40,
   "id": "b62edff9",
   "metadata": {},
   "outputs": [],
   "source": [
    "DATA_DIR = '../data'\n",
    "FILE_PATH_TRAIN = os.path.join(DATA_DIR, 'raw/KDDTrain+_20Percent.csv')\n",
    "FILE_PATH_TEST = os.path.join(DATA_DIR, 'raw/KDDTest-21.csv')"
   ]
  },
  {
   "cell_type": "code",
   "execution_count": 41,
   "id": "37d9c243",
   "metadata": {},
   "outputs": [],
   "source": [
    "df_train = pd.read_csv(FILE_PATH_TRAIN, header=None, skiprows=[0])\n",
    "df_test = pd.read_csv(FILE_PATH_TEST, header=None, skiprows=[0])"
   ]
  },
  {
   "cell_type": "code",
   "execution_count": 42,
   "id": "9677d8af",
   "metadata": {},
   "outputs": [],
   "source": [
    "# Reset column names for training set\n",
    "df_train.columns = ['duration', 'protocol_type', 'service', 'flag', 'src_bytes', 'dst_bytes', 'land', 'wrong_fragment',\n",
    "                    'urgent', 'hot',\n",
    "                    'num_failed_logins', 'logged_in', 'num_compromised', 'root_shell',\n",
    "                    'su_attempted', 'num_root', 'num_file_creations', 'num_shells',\n",
    "                    'num_access_files', 'num_outbound_cmds', 'is_host_login',\n",
    "                    'is_guest_login', 'count', 'srv_count', 'serror_rate',\n",
    "                    'srv_serror_rate', 'rerror_rate', 'srv_rerror_rate', 'same_srv_rate',\n",
    "                    'diff_srv_rate', 'srv_diff_host_rate', 'dst_host_count',\n",
    "                    'dst_host_srv_count', 'dst_host_same_srv_rate', 'dst_host_diff_srv_rate',\n",
    "                    'dst_host_same_src_port_rate',\n",
    "                    'dst_host_srv_diff_host_rate', 'dst_host_serror_rate',\n",
    "                    'dst_host_srv_serror_rate', 'dst_host_rerror_rate',\n",
    "                    'dst_host_srv_rerror_rate', 'subclass', 'difficulty_level']\n",
    "\n",
    "# Reset column names for testing set\n",
    "df_test.columns = ['duration', 'protocol_type', 'service', 'flag', 'src_bytes',\n",
    "                   'dst_bytes', 'land', 'wrong_fragment', 'urgent', 'hot',\n",
    "                   'num_failed_logins', 'logged_in', 'num_compromised', 'root_shell',\n",
    "                   'su_attempted', 'num_root', 'num_file_creations', 'num_shells',\n",
    "                   'num_access_files', 'num_outbound_cmds', 'is_host_login',\n",
    "                   'is_guest_login', 'count', 'srv_count', 'serror_rate',\n",
    "                   'srv_serror_rate', 'rerror_rate', 'srv_rerror_rate', 'same_srv_rate',\n",
    "                   'diff_srv_rate', 'srv_diff_host_rate', 'dst_host_count',\n",
    "                   'dst_host_srv_count', 'dst_host_same_srv_rate', 'dst_host_diff_srv_rate',\n",
    "                   'dst_host_same_src_port_rate',\n",
    "                   'dst_host_srv_diff_host_rate', 'dst_host_serror_rate',\n",
    "                   'dst_host_srv_serror_rate', 'dst_host_rerror_rate',\n",
    "                   'dst_host_srv_rerror_rate', 'subclass', 'difficulty_level']"
   ]
  },
  {
   "cell_type": "code",
   "execution_count": 43,
   "id": "d634dbf2",
   "metadata": {},
   "outputs": [],
   "source": [
    "# accessing names of training columns\n",
    "lst_names = df_train.columns  # returns a list of column names\n",
    "testlst_names = df_test.columns"
   ]
  },
  {
   "cell_type": "code",
   "execution_count": 44,
   "id": "383b84e6",
   "metadata": {},
   "outputs": [
    {
     "name": "stderr",
     "output_type": "stream",
     "text": [
      "/tmp/ipykernel_12148/2288646923.py:2: FutureWarning: In a future version of pandas all arguments of DataFrame.drop except for the argument 'labels' will be keyword-only.\n",
      "  df_train = df_train.drop('difficulty_level', 1)  # we don't need it in this project\n",
      "/tmp/ipykernel_12148/2288646923.py:5: FutureWarning: In a future version of pandas all arguments of DataFrame.drop except for the argument 'labels' will be keyword-only.\n",
      "  df_test = df_test.drop('difficulty_level', 1)\n"
     ]
    }
   ],
   "source": [
    "# Dropping the last columns of training set\n",
    "df_train = df_train.drop('difficulty_level', 1)  # we don't need it in this project\n",
    "\n",
    "# Dropping the last columns of testing set\n",
    "df_test = df_test.drop('difficulty_level', 1)"
   ]
  },
  {
   "cell_type": "code",
   "execution_count": 45,
   "id": "3420cc41",
   "metadata": {},
   "outputs": [
    {
     "data": {
      "text/plain": [
       "False"
      ]
     },
     "execution_count": 45,
     "metadata": {},
     "output_type": "execute_result"
    }
   ],
   "source": [
    "df_train.isnull().values.any()\n",
    "df_test.isnull().values.any()"
   ]
  },
  {
   "cell_type": "code",
   "execution_count": 46,
   "id": "13819b69",
   "metadata": {},
   "outputs": [],
   "source": [
    "# defining col list\n",
    "cols = ['protocol_type', 'service', 'flag']"
   ]
  },
  {
   "cell_type": "code",
   "execution_count": 47,
   "id": "7fbcecf4",
   "metadata": {},
   "outputs": [],
   "source": [
    "# One-hot encoding\n",
    "def one_hot(df, cols):\n",
    "    \"\"\"\n",
    "    @param df pandas DataFrame\n",
    "    @param cols a list of columns to encode\n",
    "    @return a DataFrame with one-hot encoding\n",
    "    \"\"\"\n",
    "    for each in cols:\n",
    "        dummies = pd.get_dummies(df[each], prefix=each, drop_first=False)\n",
    "        df = pd.concat([df, dummies], axis=1)\n",
    "        df = df.drop(each, 1)\n",
    "    return df"
   ]
  },
  {
   "cell_type": "code",
   "execution_count": 48,
   "id": "7ca032c8",
   "metadata": {},
   "outputs": [
    {
     "name": "stderr",
     "output_type": "stream",
     "text": [
      "/tmp/ipykernel_12148/360154003.py:11: FutureWarning: In a future version of pandas all arguments of DataFrame.drop except for the argument 'labels' will be keyword-only.\n",
      "  df = df.drop(each, 1)\n",
      "/tmp/ipykernel_12148/360154003.py:11: FutureWarning: In a future version of pandas all arguments of DataFrame.drop except for the argument 'labels' will be keyword-only.\n",
      "  df = df.drop(each, 1)\n",
      "/tmp/ipykernel_12148/360154003.py:11: FutureWarning: In a future version of pandas all arguments of DataFrame.drop except for the argument 'labels' will be keyword-only.\n",
      "  df = df.drop(each, 1)\n"
     ]
    }
   ],
   "source": [
    "# Merging train and test data\n",
    "combined_data = pd.concat([df_train, df_test])\n",
    "\n",
    "# Applying one hot encoding to combined data\n",
    "combined_data = one_hot(combined_data, cols)"
   ]
  },
  {
   "cell_type": "code",
   "execution_count": 49,
   "id": "8db9b8ab",
   "metadata": {},
   "outputs": [],
   "source": [
    "# Liran: use sklearn function\n",
    "\n",
    "# Function to min-max normalize\n",
    "def normalize(df, cols):\n",
    "    \"\"\"\n",
    "    @param df pandas DataFrame\n",
    "    @param cols a list of columns to encode\n",
    "    @return a DataFrame with normalized specified features\n",
    "    \"\"\"\n",
    "    result = df.copy()  # do not touch the original df\n",
    "    for feature_name in ['src_bytes']:\n",
    "        try:\n",
    "            max_value = df[feature_name].max()\n",
    "            min_value = df[feature_name].min()\n",
    "\n",
    "            if max_value > min_value:\n",
    "                result[feature_name] = (df[feature_name] - min_value) / (max_value - min_value)\n",
    "        except Exception as ex:\n",
    "            print(feature_name)\n",
    "            print(ex)\n",
    "    return result"
   ]
  },
  {
   "cell_type": "code",
   "execution_count": 50,
   "id": "9126ea25",
   "metadata": {},
   "outputs": [],
   "source": [
    "# Dropping subclass column for training set\n",
    "tmp = combined_data.pop('subclass')\n",
    "\n",
    "# Normalizing training set\n",
    "new_train_df = normalize(combined_data, combined_data.columns)"
   ]
  },
  {
   "cell_type": "code",
   "execution_count": 51,
   "id": "321c302b",
   "metadata": {},
   "outputs": [],
   "source": [
    "# Fixing labels for training set\n",
    "classlist = []\n",
    "check1 = (\n",
    "    \"apache2\", \"back\", \"land\", \"neptune\", \"mailbomb\", \"pod\", \"processtable\", \"smurf\", \"teardrop\", \"udpstorm\", \"worm\")\n",
    "check2 = (\"ipsweep\", \"mscan\", \"nmap\", \"portsweep\", \"saint\", \"satan\")\n",
    "check3 = (\"buffer_overflow\", \"loadmodule\", \"perl\", \"ps\", \"rootkit\", \"sqlattack\", \"xterm\")\n",
    "check4 = (\n",
    "    \"ftp_write\", \"guess_passwd\", \"httptunnel\", \"imap\", \"multihop\", \"named\", \"phf\", \"sendmail\", \"Snmpgetattack\", \"spy\",\n",
    "    \"snmpguess\", \"warezclient\", \"warezmaster\", \"xlock\", \"xsnoop\")\n",
    "\n",
    "DoSCount = 0\n",
    "ProbeCount = 0\n",
    "U2RCount = 0\n",
    "R2LCount = 0\n",
    "NormalCount = 0\n",
    "\n",
    "for item in tmp:\n",
    "    if item in check1:\n",
    "        classlist.append(\"dos\")\n",
    "        DoSCount = DoSCount + 1\n",
    "    elif item in check2:\n",
    "        classlist.append(\"probe\")\n",
    "        ProbeCount = ProbeCount + 1\n",
    "    elif item in check3:\n",
    "        classlist.append(\"u2r\")\n",
    "        U2RCount = U2RCount + 1\n",
    "    elif item in check4:\n",
    "        classlist.append(\"r2l\")\n",
    "        R2LCount = R2LCount + 1\n",
    "    else:\n",
    "        classlist.append(\"normal\")\n",
    "        NormalCount = NormalCount + 1"
   ]
  },
  {
   "cell_type": "code",
   "execution_count": 52,
   "id": "61fcada8",
   "metadata": {},
   "outputs": [
    {
     "data": {
      "text/plain": [
       "False"
      ]
     },
     "execution_count": 52,
     "metadata": {},
     "output_type": "execute_result"
    }
   ],
   "source": [
    "# Appending class column to training set\n",
    "new_train_df[\"Class\"] = classlist\n",
    "\n",
    "new_train_df[\"Class\"].value_counts()\n",
    "\n",
    "new_train_df.isnull().values.any()"
   ]
  },
  {
   "cell_type": "code",
   "execution_count": 53,
   "id": "8ad0827a",
   "metadata": {},
   "outputs": [],
   "source": [
    "attack_dict = {\n",
    "    'normal': 0,\n",
    "    'dos': 1,\n",
    "    'probe': 1,\n",
    "    'u2r': 1,\n",
    "    'r2l': 1\n",
    "}\n",
    "\n",
    "y_train = new_train_df[\"Class\"]"
   ]
  },
  {
   "cell_type": "code",
   "execution_count": 54,
   "id": "1e99706c",
   "metadata": {},
   "outputs": [
    {
     "data": {
      "text/plain": [
       "False"
      ]
     },
     "execution_count": 54,
     "metadata": {},
     "output_type": "execute_result"
    }
   ],
   "source": [
    "y_train.isnull().values.any()"
   ]
  },
  {
   "cell_type": "code",
   "execution_count": 55,
   "id": "c396b381",
   "metadata": {},
   "outputs": [
    {
     "name": "stderr",
     "output_type": "stream",
     "text": [
      "/tmp/ipykernel_12148/244079308.py:3: FutureWarning: In a future version of pandas all arguments of DataFrame.drop except for the argument 'labels' will be keyword-only.\n",
      "  combined_data_X = new_train_df.drop('Class', 1)\n"
     ]
    }
   ],
   "source": [
    "y_train = y_train.replace(attack_dict)\n",
    "\n",
    "combined_data_X = new_train_df.drop('Class', 1)"
   ]
  },
  {
   "cell_type": "code",
   "execution_count": 56,
   "id": "c9f80691",
   "metadata": {},
   "outputs": [],
   "source": [
    "min_max_scaler = preprocessing.MinMaxScaler()\n",
    "\n",
    "combined_data_X_normalized_df = pd.DataFrame(min_max_scaler.fit_transform(combined_data_X))"
   ]
  },
  {
   "cell_type": "code",
   "execution_count": 57,
   "id": "c35832e7",
   "metadata": {},
   "outputs": [],
   "source": [
    "X_train, X_test, y_train, y_test = train_test_split(combined_data_X_normalized_df, y_train, test_size=0.2, random_state=1)\n",
    "\n",
    "X_train, X_val, y_train, y_val = train_test_split(X_train, y_train, test_size=0.25, random_state=1)  # 0.25 x 0.8 = 0.2"
   ]
  },
  {
   "cell_type": "code",
   "execution_count": 58,
   "id": "2a09e17d",
   "metadata": {},
   "outputs": [],
   "source": [
    "# Save the results\n",
    "X_train.to_csv(os.path.join(DATA_DIR, 'processed_nslkdd', 'train/train_features.csv'))\n",
    "X_val.to_csv(os.path.join(DATA_DIR, 'processed_nslkdd', 'val/val_features.csv'))\n",
    "X_test.to_csv(os.path.join(DATA_DIR, 'processed_nslkdd', 'test/test_features.csv'))\n",
    "\n",
    "y_train.to_csv(os.path.join(DATA_DIR, 'processed_nslkdd', 'train/train_labels.csv'))\n",
    "y_val.to_csv(os.path.join(DATA_DIR, 'processed_nslkdd', 'val/val_labels.csv'))\n",
    "y_test.to_csv(os.path.join(DATA_DIR, 'processed_nslkdd', 'test/test_labels.csv'))"
   ]
  }
 ],
 "metadata": {
  "kernelspec": {
   "display_name": "Python 3 (ipykernel)",
   "language": "python",
   "name": "python3"
  },
  "language_info": {
   "codemirror_mode": {
    "name": "ipython",
    "version": 3
   },
   "file_extension": ".py",
   "mimetype": "text/x-python",
   "name": "python",
   "nbconvert_exporter": "python",
   "pygments_lexer": "ipython3",
   "version": "3.9.14"
  }
 },
 "nbformat": 4,
 "nbformat_minor": 5
}
