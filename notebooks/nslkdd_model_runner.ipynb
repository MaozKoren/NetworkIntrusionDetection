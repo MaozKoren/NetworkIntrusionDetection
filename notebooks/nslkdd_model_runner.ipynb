{
 "cells": [
  {
   "cell_type": "code",
   "execution_count": 20,
   "id": "b0669dcc",
   "metadata": {},
   "outputs": [],
   "source": [
    "import numpy as np\n",
    "import pandas as pd\n",
    "from sklearn.metrics import accuracy_score\n",
    "import sys\n",
    "import os\n",
    "\n",
    "sys.path.append(os.path.dirname(os.getcwd()))\n",
    "\n",
    "from dbn_nslkdd.dbn.tensorflow import SupervisedDBNClassification"
   ]
  },
  {
   "cell_type": "code",
   "execution_count": 21,
   "id": "e3a7f8cc",
   "metadata": {},
   "outputs": [],
   "source": [
    "DATA_DIR = '../data'\n",
    "FILE_PATH_TRAIN_FEATURES = os.path.join(DATA_DIR, 'processed_nslkdd', 'train/train_features.csv')\n",
    "FILE_PATH_TRAIN_LABLES = os.path.join(DATA_DIR, 'processed_nslkdd', 'train/train_labels.csv')\n",
    "\n",
    "FILE_PATH_TEST_FEATURES = os.path.join(DATA_DIR, 'processed_nslkdd', 'test/test_features.csv')\n",
    "FILE_PATH_TEST_LABLES = os.path.join(DATA_DIR, 'processed_nslkdd', 'test/test_labels.csv')"
   ]
  },
  {
   "cell_type": "code",
   "execution_count": 22,
   "id": "6d8d74db",
   "metadata": {},
   "outputs": [],
   "source": [
    "y_df = pd.read_csv(FILE_PATH_TRAIN_FEATURES).iloc[:, 1:]\n",
    "x_df = pd.read_csv(FILE_PATH_TRAIN_LABLES).iloc[:, 1:]\n",
    "\n",
    "X_test = pd.read_csv(FILE_PATH_TEST_FEATURES).iloc[:, 1:]\n",
    "Y_test = pd.read_csv(FILE_PATH_TEST_LABLES).iloc[:, 1:]"
   ]
  },
  {
   "cell_type": "code",
   "execution_count": 23,
   "id": "23804ebd",
   "metadata": {},
   "outputs": [],
   "source": [
    "X = np.array(x_df)\n",
    "Y = np.array(y_df).transpose()[0]"
   ]
  },
  {
   "cell_type": "code",
   "execution_count": 24,
   "id": "047da974",
   "metadata": {},
   "outputs": [],
   "source": [
    "n_epochs_rbm = 2\n",
    "n_iter_backprop = 10"
   ]
  },
  {
   "cell_type": "code",
   "execution_count": 25,
   "id": "ae945681",
   "metadata": {},
   "outputs": [],
   "source": [
    "classifier = SupervisedDBNClassification(hidden_layers_structure=[256, 256],\n",
    "                                         learning_rate_rbm=0.05,\n",
    "                                         learning_rate=0.1,\n",
    "                                         n_epochs_rbm=n_epochs_rbm,\n",
    "                                         n_iter_backprop=n_iter_backprop,\n",
    "                                         batch_size=32,\n",
    "                                         activation_function='relu',\n",
    "                                         dropout_p=0.2)"
   ]
  },
  {
   "cell_type": "code",
   "execution_count": null,
   "id": "1e0ec9ba",
   "metadata": {},
   "outputs": [
    {
     "name": "stdout",
     "output_type": "stream",
     "text": [
      "[START] Pre-training step:\n",
      ">> Epoch 1 finished \tRBM Reconstruction error 0.000519\n"
     ]
    }
   ],
   "source": [
    "classifier.fit(X, Y)"
   ]
  },
  {
   "cell_type": "code",
   "execution_count": null,
   "id": "2be4b179",
   "metadata": {},
   "outputs": [],
   "source": [
    "Y_pred = classifier.predict(X_test)\n",
    "print('Done.\\nAccuracy: %f' % accuracy_score(Y_test, Y_pred))"
   ]
  },
  {
   "cell_type": "code",
   "execution_count": null,
   "id": "2d5b7e70",
   "metadata": {},
   "outputs": [],
   "source": []
  }
 ],
 "metadata": {
  "kernelspec": {
   "display_name": "Python 3 (ipykernel)",
   "language": "python",
   "name": "python3"
  },
  "language_info": {
   "codemirror_mode": {
    "name": "ipython",
    "version": 3
   },
   "file_extension": ".py",
   "mimetype": "text/x-python",
   "name": "python",
   "nbconvert_exporter": "python",
   "pygments_lexer": "ipython3",
   "version": "3.9.14"
  }
 },
 "nbformat": 4,
 "nbformat_minor": 5
}
